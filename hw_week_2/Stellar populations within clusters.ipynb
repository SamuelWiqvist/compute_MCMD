{
 "cells": [
  {
   "cell_type": "markdown",
   "metadata": {},
   "source": [
    "**COMPUT MCMD course sping 2019, home work for week 2** \n",
    "\n",
    "**By: Samuel Wiqvist** \n"
   ]
  },
  {
   "cell_type": "markdown",
   "metadata": {},
   "source": [
    "#### Introduction "
   ]
  },
  {
   "cell_type": "markdown",
   "metadata": {},
   "source": [
    "We will use Monte Carlo methods to analyses stellar populations within clusters."
   ]
  },
  {
   "cell_type": "markdown",
   "metadata": {},
   "source": [
    "#### Set-up"
   ]
  },
  {
   "cell_type": "markdown",
   "metadata": {},
   "source": [
    "The first step it to load the packages that we will use for our calculations, and to fix the random numbers (such that we get the same result each time we run our analyses)."
   ]
  },
  {
   "cell_type": "code",
   "execution_count": 1,
   "metadata": {},
   "outputs": [],
   "source": [
    "using PyPlot # for plotting\n",
    "using Statistics # for computing statistics \n",
    "using Random # for fixing the random numbres used \n",
    "\n",
    "Random.seed!(123); # fix random numbers "
   ]
  },
  {
   "cell_type": "markdown",
   "metadata": {},
   "source": [
    "Regarding our calculations: In all our calculations we let $M_{\\circ} = 1$."
   ]
  },
  {
   "cell_type": "markdown",
   "metadata": {},
   "source": [
    "#### The mass distribution for stars"
   ]
  },
  {
   "cell_type": "markdown",
   "metadata": {},
   "source": [
    "We first plot the distribution (i.e. the power law) for masses in stars."
   ]
  },
  {
   "cell_type": "code",
   "execution_count": 4,
   "metadata": {},
   "outputs": [
    {
     "data": {
      "image/png": "[encoded data removed]",
      "text/plain": [
       "Figure(PyObject <Figure size 640x480 with 1 Axes>)"
      ]
     },
     "metadata": {},
     "output_type": "display_data"
    }
   ],
   "source": [
    "# density function for the mass \n",
    "function f(x)\n",
    "\n",
    "    if x >= 0.08 && x <= 0.5\n",
    "        γ = 1.3\n",
    "    elseif x >= 0.5 && x <= 1\n",
    "        γ = 2.2\n",
    "    else\n",
    "        γ = 2.7\n",
    "    end\n",
    "\n",
    "    return x^(-γ)\n",
    "\n",
    "end\n",
    "\n",
    "# compute desity  \n",
    "x = LinRange(0.08,120, 200)\n",
    "density = zeros(length(x))\n",
    "for i in 1:length(x); density[i] = f(x[i]); end\n",
    "\n",
    "# plot desity function\n",
    "PyPlot.figure()\n",
    "PyPlot.semilogy(x, density)\n",
    "PyPlot.xlabel(\"Mass\")\n",
    "PyPlot.ylabel(\"log Density\");"
   ]
  },
  {
   "cell_type": "markdown",
   "metadata": {},
   "source": [
    "#### Sampling stars with masses according to the density function"
   ]
  },
  {
   "cell_type": "markdown",
   "metadata": {},
   "source": [
    "To sample stars with masses according to the density function that we have been given we use the hit-and-miss method. This hit-and-miss method is quite inefficient in this case, and for instance, using an importance distribution would probably make our calculations more efficient. "
   ]
  },
  {
   "cell_type": "code",
   "execution_count": 3,
   "metadata": {},
   "outputs": [],
   "source": [
    "# hit-and-miss method to sample stars with masses accoring to the density function f\n",
    "function hitandmiss(N_stars)\n",
    "\n",
    "    y_max = round(f(0.08)) \n",
    "\n",
    "    N_acc = 0\n",
    "\n",
    "    stars = zeros(N_stars)\n",
    "\n",
    "    for i = 1:N_stars\n",
    "\n",
    "        generate = true\n",
    "\n",
    "        while generate\n",
    "            x_star = 0.08+(120-0.08)*rand()\n",
    "            y_star = y_max*rand()\n",
    "\n",
    "            if y_star <= f(x_star)\n",
    "                generate = false\n",
    "                stars[i] = x_star\n",
    "            end\n",
    "\n",
    "        end\n",
    "\n",
    "    end\n",
    "\n",
    "    return stars\n",
    "\n",
    "end;\n"
   ]
  },
  {
   "cell_type": "markdown",
   "metadata": {},
   "source": [
    "#### The probability that a cluster with $N_{\\star}$ stars produces at least one supernovae"
   ]
  },
  {
   "cell_type": "markdown",
   "metadata": {},
   "source": [
    "If the cluster contains stars with masses larger than $8 M_{\\circ}$, then these stars will explode as a supernovae. We will now compute the probability that a cluster with $N_{\\star}=100, 300,1000$ stars contains at least one supernova, i.e. at least on star with mass larger than $8 M_{\\circ}$.\n",
    "\n",
    "We now compute the probabilities by sampling $\\tilde{N}$ clusters with $N_{\\star}=100,300,1000$ stars using the hit-and-miss method. After sampling the clusters we then estimating the probability that a cluster contains at least one supernovae."
   ]
  },
  {
   "cell_type": "code",
   "execution_count": 4,
   "metadata": {
    "scrolled": true
   },
   "outputs": [
    {
     "name": "stdout",
     "output_type": "stream",
     "text": [
      "[0.26, 0.61, 0.95]"
     ]
    }
   ],
   "source": [
    "N_clusters = 100 # nbr of clusters \n",
    "N_stars = [100,300,1000] # nbr of stars in a clusters\n",
    "nbr_supernovae = zeros(N_clusters, length(N_stars)) # pre-allocated matrix to store number of supernoveas in each cluster\n",
    "\n",
    "# generate clusters and find number of supernovae in each cluster\n",
    "for i in 1:length(N_stars)\n",
    "    for j in 1:N_clusters\n",
    "        nbr_supernovae[j,i] = length(findall(x -> x > 8, hitandmiss(N_stars[i])))\n",
    "    end\n",
    "end\n",
    "\n",
    "# comute probabiltiy that a cluster contains at least one supernova\n",
    "prob_supernovae = zeros(length(N_stars))\n",
    "\n",
    "for i in 1:length(N_stars)\n",
    "    prob_supernovae[i] =  length(findall(x -> x > 0, nbr_supernovae[:,i]))/N_clusters\n",
    "end\n",
    "\n",
    "print(prob_supernovae)\n"
   ]
  },
  {
   "cell_type": "markdown",
   "metadata": {},
   "source": [
    "We obtain following probabilities for stars with masses larger than $8 M_{\\circ}$:\n",
    "\n",
    "$P(\\text{at least on star with mass} > M_{\\circ})_{N_{\\star}=100} = 0.26$\n",
    "\n",
    "$P(\\text{at least on star with mass} > M_{\\circ})_{N_{\\star}=300} = 0.61$\n",
    "\n",
    "$P(\\text{at least on star with mass} > M_{\\circ})_{N_{\\star}=1000} = 0.95$"
   ]
  },
  {
   "cell_type": "markdown",
   "metadata": {},
   "source": [
    "The next task is to compute the probability for stars with masses larger than $8 M_{\\circ}$ in clusters with $50 \\leq N_{\\star} \\leq 5000$ number of stars."
   ]
  },
  {
   "cell_type": "code",
   "execution_count": 5,
   "metadata": {},
   "outputs": [
    {
     "data": {
      "image/png": "[encoded data removed]",
      "text/plain": [
       "Figure(PyObject <Figure size 640x480 with 1 Axes>)"
      ]
     },
     "metadata": {},
     "output_type": "display_data"
    }
   ],
   "source": [
    "N_stars = floor.(Int,LinRange(50,5000,50))\n",
    "nbr_supernovae = zeros(N_clusters, length(N_stars))\n",
    "\n",
    "# generate clusters and find number of supernovae in each cluster\n",
    "for i in 1:length(N_stars)\n",
    "    for j in 1:N_clusters\n",
    "        nbr_supernovae[j,i] = length(findall(x -> x > 8, hitandmiss(N_stars[i])))\n",
    "    end\n",
    "end\n",
    "\n",
    "\n",
    "# compute probabiltiy that a cluster contains at least one supernova\n",
    "prob_supernovae = zeros(length(N_stars))\n",
    "\n",
    "for i in 1:length(N_stars)\n",
    "    prob_supernovae[i] =  length(findall(x -> x > 0, nbr_supernovae[:,i]))/N_clusters\n",
    "end\n",
    "\n",
    "\n",
    "PyPlot.figure()\n",
    "PyPlot.plot(N_stars, prob_supernovae)\n",
    "PyPlot.xlabel(\"Number of stars in cluser\")\n",
    "PyPlot.ylabel(\"Est. prob. for at least one supernova\");\n"
   ]
  },
  {
   "cell_type": "markdown",
   "metadata": {},
   "source": [
    "We can now conclude that the probability for at least one supernova is low if the cluster contains few stars and that the probability for at least on supernova converges to 1 when the cluster size increases, which is as expected. \n",
    "\n",
    "The next task is to compute the mean, median and lower quantile (the Q1 quantile) expected number of supernovae for a cluster with $N_{\\star} = 5000$ stars. For this task we generate 100 clusters with $N_{\\star} = 5000$ stars and compute statistics for the population of clusters."
   ]
  },
  {
   "cell_type": "code",
   "execution_count": 7,
   "metadata": {},
   "outputs": [
    {
     "name": "stdout",
     "output_type": "stream",
     "text": [
      "18.95\n",
      "19.0\n",
      "15.75\n"
     ]
    }
   ],
   "source": [
    "# set number of starts and number of clusters to generate\n",
    "\n",
    "N_clusters = 100\n",
    "N_stars = 5000\n",
    "nbr_supernovae = zeros(N_clusters)\n",
    "\n",
    "for i in 1:N_clusters\n",
    "    nbr_supernovae[i] = length(findall(x -> x > 8, hitandmiss(N_stars)))\n",
    "end\n",
    "\n",
    "println(mean(nbr_supernovae))\n",
    "println(median(nbr_supernovae))\n",
    "println(quantile(nbr_supernovae, 0.25))\n"
   ]
  },
  {
   "cell_type": "markdown",
   "metadata": {},
   "source": [
    "We obtain following statistics:\n",
    "\n",
    "$\\text{mean} = 18.95$\n",
    "\n",
    "$\\text{median} = 10.9$\n",
    "\n",
    "$Q_1 = 15.75$\n"
   ]
  },
  {
   "cell_type": "markdown",
   "metadata": {},
   "source": [
    "#### Number of stars in a cluster with a supernova with $M_{\\text{sn}} \\geq 25 M_{\\circ}$"
   ]
  },
  {
   "cell_type": "markdown",
   "metadata": {},
   "source": [
    "We are now interested in investigating how many stars there are in a cluster such that the cluster contains a supernova with mass $M_{\\text{sn}} \\geq 25 M_{\\circ}$. This question is of particular interest since our own sum is believed to have formed in such a cluster. \n",
    "\n",
    "To investigate this we compaute generate $\\tilde{N}$ clusters, for each cluster we then generate stars until one of the stars has  a mass $\\geq 25 M_{\\circ}$. We then plot the numbers of stars that we need in a cluster, such that the cluster contains one start with a mass $\\geq 25 M_{\\circ}$ in a histogram, and print the average number of starts (mean) and standard deviation for the numbers of stars."
   ]
  },
  {
   "cell_type": "code",
   "execution_count": 10,
   "metadata": {},
   "outputs": [
    {
     "data": {
      "image/png": "[encoded data removed]",
      "text/plain": [
       "Figure(PyObject <Figure size 640x480 with 1 Axes>)"
      ]
     },
     "metadata": {},
     "output_type": "display_data"
    },
    {
     "name": "stdout",
     "output_type": "stream",
     "text": [
      "2049.133\n",
      "2004.9092399336614\n"
     ]
    },
    {
     "name": "stderr",
     "output_type": "stream",
     "text": [
      "┌ Warning: `getindex(o::PyObject, s::Symbol)` is deprecated in favor of dot overloading (`getproperty`) so elements should now be accessed as e.g. `o.s` instead of `o[:s]`.\n",
      "│   caller = top-level scope at In[10]:25\n",
      "└ @ Core In[10]:25\n"
     ]
    }
   ],
   "source": [
    "# How many stars in the cluster that we need for the sun\n",
    "N_clusters = 1000\n",
    "nbr_stars_in_cluster = zeros(N_clusters)\n",
    "\n",
    "for i in 1:N_clusters # loop over the number of clusters\n",
    "\n",
    "    nbr_stars = 0\n",
    "    generate_starts = true\n",
    "\n",
    "    # generate stars in cluster i until we obtain one start  with mass > 25\n",
    "    while generate_starts\n",
    "\n",
    "        nbr_stars = nbr_stars + 1\n",
    "        star_prop = hitandmiss(1)[1]\n",
    "\n",
    "        if star_prop >= 25\n",
    "            nbr_stars_in_cluster[i] = nbr_stars\n",
    "            generate_starts = false\n",
    "        end\n",
    "    end\n",
    "\n",
    "end\n",
    "\n",
    "PyPlot.figure()\n",
    "h = PyPlot.plt[:hist](nbr_stars_in_cluster,100)\n",
    "PyPlot.xlabel(\"Number of stars needed to get one start with mass > 25\")\n",
    "PyPlot.ylabel(\"Freq.\")\n",
    "\n",
    "println(mean(nbr_stars_in_cluster))\n",
    "println(std(nbr_stars_in_cluster))\n",
    "\n",
    "\n"
   ]
  },
  {
   "cell_type": "markdown",
   "metadata": {},
   "source": [
    "Out simulations show that a cluster that contains a supernova with  $x \\pm y= M_{\\text{sn}} \\geq 25 M_{\\circ}$ likely containes $22049 \\pm 2005$ number of stars, where $x$ is the average number of stars needed and y the standard deviation for the number of stars. However, we can also conclude that the distribution of stars that we need in a cluster such that we have one star with $M_{\\text{sn}} \\geq 25 M_{\\circ}$ is exponential, which also means that the mean value $2027.5$ is not very infomative. Something that we also can conclude from the large standard deviation. "
   ]
  }
 ],
 "metadata": {
  "@webio": {
   "lastCommId": null,
   "lastKernelId": null
  },
  "kernelspec": {
   "display_name": "Julia 1.0.0",
   "language": "julia",
   "name": "julia-1.0"
  },
  "language_info": {
   "file_extension": ".jl",
   "mimetype": "application/julia",
   "name": "julia",
   "version": "1.0.0"
  }
 },
 "nbformat": 4,
 "nbformat_minor": 2
}
