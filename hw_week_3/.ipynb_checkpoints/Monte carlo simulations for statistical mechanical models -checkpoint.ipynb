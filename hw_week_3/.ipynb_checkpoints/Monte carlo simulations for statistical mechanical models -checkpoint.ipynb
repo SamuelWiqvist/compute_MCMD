{
 "cells": [
  {
   "cell_type": "markdown",
   "metadata": {},
   "source": [
    "## Introduction\n",
    "\n",
    "We will in this project use Monte Carlo methods to analyse two statisical mechanical model, the Ising model and the Potts model.\n",
    "\n",
    "Our first task is to simulate the Ising model using the metroplis algorithm, after that we will used the Wang-Landau algorithm to estiamte the density of state for the Potts model in two dimensional with 10 spins.\n",
    "\n",
    "We start with loading the packages that we use, and the algorithms. "
   ]
  },
  {
   "cell_type": "code",
   "execution_count": null,
   "metadata": {},
   "outputs": [],
   "source": [
    "using PyPlot # for plotting \n",
    "using Printf # for printing \n",
    "\n",
    "include(\"mc_algorithms.jl\") # load MC algorithms for the Ising model and the Potts model\n",
    "\n"
   ]
  },
  {
   "cell_type": "code",
   "execution_count": 1,
   "metadata": {},
   "outputs": [
    {
     "data": {
      "text/plain": [
       "\"/home/samuel/Documents/COMPUTE MCMD-kurs/compute_MCMD/hw_week_3\""
      ]
     },
     "execution_count": 1,
     "metadata": {},
     "output_type": "execute_result"
    }
   ],
   "source": [
    "pwd()"
   ]
  },
  {
   "cell_type": "code",
   "execution_count": null,
   "metadata": {},
   "outputs": [],
   "source": []
  },
  {
   "cell_type": "code",
   "execution_count": null,
   "metadata": {},
   "outputs": [],
   "source": []
  }
 ],
 "metadata": {
  "kernelspec": {
   "display_name": "Julia 1.0.0",
   "language": "julia",
   "name": "julia-1.0"
  },
  "language_info": {
   "file_extension": ".jl",
   "mimetype": "application/julia",
   "name": "julia",
   "version": "1.0.0"
  }
 },
 "nbformat": 4,
 "nbformat_minor": 2
}
