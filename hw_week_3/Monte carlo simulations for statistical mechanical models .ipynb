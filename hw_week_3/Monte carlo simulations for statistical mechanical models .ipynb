{
 "cells": [
  {
   "cell_type": "markdown",
   "metadata": {},
   "source": [
    "## Introduction\n",
    "\n",
    "We will in this project use Monte Carlo methods to analyse two statisical mechanical model, the Ising model and the Potts model.\n",
    "\n",
    "Our first task is to simulate the Ising model using the metroplis algorithm, after that we will used the Wang-Landau algorithm to estiamte the density of state for the Potts model in two dimensional with 10 spins.\n",
    "\n",
    "We start with loading the packages that we use, and the algorithms. "
   ]
  },
  {
   "cell_type": "code",
   "execution_count": 2,
   "metadata": {},
   "outputs": [
    {
     "data": {
      "text/plain": [
       "wang_landau (generic function with 2 methods)"
      ]
     },
     "execution_count": 2,
     "metadata": {},
     "output_type": "execute_result"
    }
   ],
   "source": [
    "using PyPlot # for plotting \n",
    "using Printf # for printing \n",
    "\n",
    "include(\"mc_algorithms.jl\") # load MC algorithms for the Ising model and the Potts model"
   ]
  },
  {
   "cell_type": "markdown",
   "metadata": {},
   "source": [
    "## Warm-up: Simulate the Ising model using the Metroplis algorithm"
   ]
  },
  {
   "cell_type": "markdown",
   "metadata": {},
   "source": [
    "We first generate the start configuaring for the Ising model by assigning a random spin to each site. The system is on a two dimensional square lattice (100x100). "
   ]
  },
  {
   "cell_type": "code",
   "execution_count": 4,
   "metadata": {},
   "outputs": [
    {
     "data": {
      "image/png": "[encoded data removed]",
      "text/plain": [
       "Figure(PyObject <Figure size 640x480 with 1 Axes>)"
      ]
     },
     "metadata": {},
     "output_type": "display_data"
    },
    {
     "data": {
      "text/plain": [
       "PyObject <matplotlib.image.AxesImage object at 0x7f5f62c06c18>"
      ]
     },
     "execution_count": 4,
     "metadata": {},
     "output_type": "execute_result"
    }
   ],
   "source": [
    "# generate start condiguration for stat S\n",
    "dims = 100\n",
    "S_start = zeros(dims,dims)\n",
    "map!(x -> x = rand([1,-1]), S_start, S_start)\n",
    "\n",
    "PyPlot.figure()\n",
    "PyPlot.imshow(S_start, cmap=\"hot\", interpolation=\"nearest\")\n"
   ]
  },
  {
   "cell_type": "markdown",
   "metadata": {},
   "source": [
    "Thus, we see that we have random configuaring in the the start configuaring $S_{start}$. "
   ]
  },
  {
   "cell_type": "markdown",
   "metadata": {},
   "source": [
    "We set the system parameters to: "
   ]
  },
  {
   "cell_type": "code",
   "execution_count": 6,
   "metadata": {},
   "outputs": [
    {
     "data": {
      "text/plain": [
       "200000"
      ]
     },
     "execution_count": 6,
     "metadata": {},
     "output_type": "execute_result"
    }
   ],
   "source": [
    "J = 0.5 # interaction strength (we have the same interaction strength for all states)\n",
    "β = 20 # tempering\n",
    "iter = 200000 # nbr of MC interstions"
   ]
  },
  {
   "cell_type": "markdown",
   "metadata": {},
   "source": [
    "Now we run the Metroplis algorithm for $iter$ number of iterations, starting at the random configuration $S_{start}$."
   ]
  },
  {
   "cell_type": "code",
   "execution_count": null,
   "metadata": {},
   "outputs": [],
   "source": [
    "# run Metroplis algorithm\n",
    "S_configs, energy_vec, a_vec = @time metroplis(S_start, iter, J, β)\n",
    "\n",
    "# compute avg acc prob\n",
    "@printf \"Avg. acc. prob.: %f\" sum(a_vec)/iter\n"
   ]
  },
  {
   "cell_type": "code",
   "execution_count": null,
   "metadata": {},
   "outputs": [],
   "source": []
  }
 ],
 "metadata": {
  "kernelspec": {
   "display_name": "Julia 1.0.0",
   "language": "julia",
   "name": "julia-1.0"
  },
  "language_info": {
   "file_extension": ".jl",
   "mimetype": "application/julia",
   "name": "julia",
   "version": "1.0.0"
  }
 },
 "nbformat": 4,
 "nbformat_minor": 2
}
